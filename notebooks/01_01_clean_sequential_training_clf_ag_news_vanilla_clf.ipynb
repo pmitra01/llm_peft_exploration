{
 "cells": [
  {
   "cell_type": "markdown",
   "id": "c53c27ca",
   "metadata": {},
   "source": [
    "# Text classification"
   ]
  },
  {
   "cell_type": "code",
   "execution_count": 20,
   "id": "517e2e60-a8ac-43d0-af93-d6f6fdd9c943",
   "metadata": {},
   "outputs": [],
   "source": [
    "%load_ext autoreload\n",
    "%reload_ext autoreload"
   ]
  },
  {
   "cell_type": "markdown",
   "id": "6ebef213",
   "metadata": {},
   "source": [
    "### imports and globals"
   ]
  },
  {
   "cell_type": "code",
   "execution_count": 13,
   "id": "6d956186",
   "metadata": {},
   "outputs": [],
   "source": [
    "T5_SMALL = \"t5-small\"\n",
    "GPT = \"gpt2\"  # 117M parameters as per https://huggingface.co/transformers/v3.3.1/pretrained_models.html # \"openai-gpt\""
   ]
  },
  {
   "cell_type": "code",
   "execution_count": 14,
   "id": "71800546",
   "metadata": {},
   "outputs": [],
   "source": [
    "# opt\n",
    "from collections import defaultdict\n",
    "\n",
    "# mandatory imports\n",
    "from pathlib import Path\n",
    "from datasets import load_dataset\n",
    "\n",
    "import torch\n",
    "from transformers import AutoTokenizer\n",
    "from transformers import T5Tokenizer, T5ForConditionalGeneration\n",
    "from torch.utils.data import Dataset, DataLoader\n",
    "from torch.utils.data.sampler import Sampler\n",
    "from torch.utils.data import random_split\n",
    "import collections\n",
    "from torch.utils.data import DataLoader, Subset\n",
    "from sklearn.model_selection import train_test_split\n",
    "from transformers import AutoModelForSequenceClassification\n",
    "from sklearn.metrics import f1_score, roc_auc_score, accuracy_score\n",
    "from transformers import EvalPrediction\n",
    "import torch\n",
    "import numpy as np\n",
    "from transformers import TrainingArguments, Trainer\n",
    "from transformers import DataCollatorWithPadding\n"
   ]
  },
  {
   "cell_type": "code",
   "execution_count": 15,
   "id": "baeb44ab",
   "metadata": {},
   "outputs": [
    {
     "data": {
      "text/plain": [
       "True"
      ]
     },
     "execution_count": 15,
     "metadata": {},
     "output_type": "execute_result"
    }
   ],
   "source": [
    "import wandb\n",
    "wandb.login()"
   ]
  },
  {
   "cell_type": "markdown",
   "id": "fa98a779",
   "metadata": {},
   "source": [
    "## Globals"
   ]
  },
  {
   "cell_type": "code",
   "execution_count": 16,
   "id": "ae590d68",
   "metadata": {},
   "outputs": [],
   "source": [
    "VALID_SIZE = 0.1\n",
    "BATCH_SIZE = 32\n",
    "SEED = 42\n",
    "METRIC_NAME = \"f1\"\n",
    "N_EPOCHS = 10"
   ]
  },
  {
   "cell_type": "markdown",
   "id": "1a90ce66",
   "metadata": {
    "tags": []
   },
   "source": [
    "### load dataset"
   ]
  },
  {
   "cell_type": "code",
   "execution_count": 17,
   "id": "c580ec72",
   "metadata": {},
   "outputs": [
    {
     "name": "stderr",
     "output_type": "stream",
     "text": [
      "Found cached dataset ag_news (/home/jovyan/llm_peft_exploration/notebooks/datasets/.cache/huggingface_datasets/ag_news/default/0.0.0/bc2bcb40336ace1a0374767fc29bb0296cdaf8a6da7298436239c54d79180548)\n"
     ]
    },
    {
     "data": {
      "application/vnd.jupyter.widget-view+json": {
       "model_id": "841ae0fdb3f64f8fbf714a891afa7adf",
       "version_major": 2,
       "version_minor": 0
      },
      "text/plain": [
       "  0%|          | 0/2 [00:00<?, ?it/s]"
      ]
     },
     "metadata": {},
     "output_type": "display_data"
    }
   ],
   "source": [
    "raw_dataset = load_dataset('ag_news', cache_dir=\"./datasets/.cache/huggingface_datasets\")"
   ]
  },
  {
   "cell_type": "code",
   "execution_count": 18,
   "id": "8f67202d",
   "metadata": {},
   "outputs": [],
   "source": [
    "id2label = {\n",
    "    0: \"World\",\n",
    "    1: \"Sports\",\n",
    "    2: \"Business\",\n",
    "    3: \"Sci/Tech\"\n",
    "}\n",
    "\n",
    "label2id = {v:k for k,v in id2label.items()}"
   ]
  },
  {
   "cell_type": "markdown",
   "id": "87072172",
   "metadata": {
    "tags": []
   },
   "source": [
    "#### explore shape of dataset"
   ]
  },
  {
   "cell_type": "code",
   "execution_count": 19,
   "id": "0669ab23",
   "metadata": {
    "tags": []
   },
   "outputs": [
    {
     "data": {
      "text/plain": [
       "{'train': 120000, 'test': 7600}"
      ]
     },
     "execution_count": 19,
     "metadata": {},
     "output_type": "execute_result"
    }
   ],
   "source": [
    "{k: len(raw_dataset[k]) for k in raw_dataset}"
   ]
  },
  {
   "cell_type": "code",
   "execution_count": 20,
   "id": "57d45cf7",
   "metadata": {},
   "outputs": [
    {
     "data": {
      "text/plain": [
       "{'text': \"Fears for T N pension after talks Unions representing workers at Turner   Newall say they are 'disappointed' after talks with stricken parent firm Federal Mogul.\",\n",
       " 'label': 2}"
      ]
     },
     "execution_count": 20,
     "metadata": {},
     "output_type": "execute_result"
    }
   ],
   "source": [
    "raw_dataset['test'][0] "
   ]
  },
  {
   "cell_type": "markdown",
   "id": "bc660581",
   "metadata": {
    "tags": []
   },
   "source": [
    "### Preprocess dataset\n"
   ]
  },
  {
   "cell_type": "markdown",
   "id": "249cd60d-b69e-4f61-a5fc-94927d680813",
   "metadata": {},
   "source": [
    "#### Set config parameters"
   ]
  },
  {
   "cell_type": "code",
   "execution_count": 21,
   "id": "c921068a-86c5-44c1-bfcd-7f37860a3c70",
   "metadata": {
    "tags": []
   },
   "outputs": [],
   "source": [
    "# max_length = 384\n",
    "max_input_length = 364\n",
    "max_target_length = 32\n",
    "MAX_PREPROCESSING_LENGTH = 128"
   ]
  },
  {
   "cell_type": "markdown",
   "id": "8943001e-f778-4451-9e25-a0f7b0219a38",
   "metadata": {},
   "source": [
    "#### Define utils"
   ]
  },
  {
   "cell_type": "code",
   "execution_count": 22,
   "id": "5a96d27d",
   "metadata": {},
   "outputs": [],
   "source": [
    "def preprocess_data(examples):\n",
    "    # take a batch of texts\n",
    "    text = examples[\"text\"]  # this has n_rows which = batch_size\n",
    "    # encode text\n",
    "    encoding = tokenizer(text, padding=\"max_length\", truncation=True, max_length=MAX_PREPROCESSING_LENGTH, return_tensors='pt')\n",
    "    # add labels\n",
    "    labels_batch = torch.tensor(examples['label'])\n",
    "    # create numpy array of shape (batch_size, num_labels)\n",
    "    labels_matrix = torch.nn.functional.one_hot(labels_batch)\n",
    "    labels_matrix = labels_matrix.float() \n",
    "    encoding[\"label\"] = labels_matrix#.tolist()\n",
    "  \n",
    "    return encoding\n"
   ]
  },
  {
   "cell_type": "code",
   "execution_count": 23,
   "id": "f2e68ad4",
   "metadata": {},
   "outputs": [],
   "source": [
    "def prepare_dataset(ds, tokenizer, create_validation_split=False, validation_prop=0.1):\n",
    "    encoded_dataset = ds.map(preprocess_data, batched=True)\n",
    "    encoded_dataset.set_format(\"torch\")\n",
    "    \n",
    "    # create train/valid sets\n",
    "    print(f\"creating validation split: {str(create_validation_split)}\")\n",
    "    if create_validation_split:\n",
    "        train_dataset, validation_dataset= encoded_dataset['train'].train_test_split(test_size=validation_prop).values()\n",
    "    return {'train': train_dataset, 'valid': validation_dataset, 'test': encoded_dataset['test']}\n"
   ]
  },
  {
   "cell_type": "code",
   "execution_count": 41,
   "id": "138b2667",
   "metadata": {
    "tags": []
   },
   "outputs": [],
   "source": [
    "def describe_label_distr_from_data_loader(dl):\n",
    "    label_list = []\n",
    "    print(f\"#samples in split: {len(dl)}\")\n",
    "    for idx, item in enumerate(dl):\n",
    "        batch_labels_onehot = item['label']#.tolist()\n",
    "        batch_labels = [torch.argmax(label_onehot).item() for label_onehot in batch_labels_onehot]\n",
    "        label_list.extend(batch_labels)\n",
    "    print(f'distribution of labels: {collections.Counter(label_list)}')\n",
    "\n"
   ]
  },
  {
   "cell_type": "markdown",
   "id": "f6ff2198-508e-4496-af5b-0923b1f18d48",
   "metadata": {},
   "source": [
    "#### tokenize, encode dataset"
   ]
  },
  {
   "cell_type": "code",
   "execution_count": 25,
   "id": "84eb9d71",
   "metadata": {},
   "outputs": [],
   "source": [
    "tokenizer = AutoTokenizer.from_pretrained(GPT)\n",
    "tokenizer.pad_token = tokenizer.eos_token\n",
    "tokenizer.padding_side = 'right' \n",
    "\n",
    "# more efficient to dynamically pad sentences to max length in a batch during collation than global max length\n",
    "data_collator = DataCollatorWithPadding(tokenizer=tokenizer)"
   ]
  },
  {
   "cell_type": "code",
   "execution_count": 26,
   "id": "a7e7e34d",
   "metadata": {
    "tags": []
   },
   "outputs": [
    {
     "name": "stderr",
     "output_type": "stream",
     "text": [
      "Loading cached processed dataset at /home/jovyan/llm_peft_exploration/notebooks/datasets/.cache/huggingface_datasets/ag_news/default/0.0.0/bc2bcb40336ace1a0374767fc29bb0296cdaf8a6da7298436239c54d79180548/cache-013e24b39d800e64.arrow\n",
      "Loading cached processed dataset at /home/jovyan/llm_peft_exploration/notebooks/datasets/.cache/huggingface_datasets/ag_news/default/0.0.0/bc2bcb40336ace1a0374767fc29bb0296cdaf8a6da7298436239c54d79180548/cache-dea2583dcfbada18.arrow\n"
     ]
    },
    {
     "name": "stdout",
     "output_type": "stream",
     "text": [
      "creating validation split: True\n",
      "distribution of labels: Counter({2: 3036, 0: 3019, 3: 3014, 1: 2931})\n",
      "distribution of labels: Counter({1: 27069, 3: 26986, 0: 26981, 2: 26964})\n"
     ]
    }
   ],
   "source": [
    "encoded_dataset = prepare_dataset(raw_dataset, tokenizer, create_validation_split=True)\n",
    "valid_loader = DataLoader(encoded_dataset['valid'], batch_size=BATCH_SIZE, shuffle=True)\n",
    "train_loader = DataLoader(encoded_dataset['train'], batch_size=BATCH_SIZE, shuffle=True)\n",
    "\n",
    "describe_label_distr_from_data_loader(valid_loader)\n",
    "describe_label_distr_from_data_loader(train_loader)"
   ]
  },
  {
   "cell_type": "code",
   "execution_count": null,
   "id": "360db84e-f0ac-41d5-9f1d-9c3ee9b42d4b",
   "metadata": {},
   "outputs": [],
   "source": [
    "notebooks/openprompt_ag_news.ipynb\n",
    "notebooks/openprompt_glue_clf.ipynb\n",
    "        deleted:    notebooks/question_answering-generative.ipynb\n",
    "        deleted:    notebooks/question_answering.ipynb\n",
    "        deleted:    notebooks/sequential_training_clf_ag_news-Copy1.ipynb\n",
    "        deleted:    notebooks/vanilla_clf_ag_news-archive.ipynb\n",
    "        deleted:    notebooks/vanilla_clf_ag_news.ipynb"
   ]
  },
  {
   "cell_type": "markdown",
   "id": "4a3491f1",
   "metadata": {},
   "source": [
    "### training loop"
   ]
  },
  {
   "cell_type": "code",
   "execution_count": 27,
   "id": "38f02c5f",
   "metadata": {},
   "outputs": [],
   "source": [
    "VALID_SIZE = 0.1\n",
    "BATCH_SIZE = 32\n",
    "SEED = 42\n",
    "METRIC_NAME = \"f1\"\n",
    "N_EPOCHS = 50"
   ]
  },
  {
   "cell_type": "code",
   "execution_count": 28,
   "id": "e2d43820",
   "metadata": {
    "tags": []
   },
   "outputs": [],
   "source": [
    "MODEL_DIR = Path(f\"data/models_20230606\")\n",
    "MODEL_DIR.mkdir(exist_ok=True, parents=True)"
   ]
  },
  {
   "cell_type": "code",
   "execution_count": 29,
   "id": "8f2af02d",
   "metadata": {},
   "outputs": [
    {
     "name": "stderr",
     "output_type": "stream",
     "text": [
      "Some weights of GPT2ForSequenceClassification were not initialized from the model checkpoint at gpt2 and are newly initialized: ['score.weight']\n",
      "You should probably TRAIN this model on a down-stream task to be able to use it for predictions and inference.\n"
     ]
    }
   ],
   "source": [
    "model = AutoModelForSequenceClassification.from_pretrained(GPT, \n",
    "                                                           problem_type=\"multi_label_classification\", \n",
    "                                                           num_labels=len(label2id),\n",
    "                                                           id2label=id2label,\n",
    "                                                           label2id=label2id)\n",
    "\n",
    "model.config.pad_token_id = model.config.eos_token_id\n"
   ]
  },
  {
   "cell_type": "markdown",
   "id": "25e1b1c8-b46d-454b-bcfc-9a0091c4de83",
   "metadata": {},
   "source": [
    "evals"
   ]
  },
  {
   "cell_type": "code",
   "execution_count": 30,
   "id": "ab032677",
   "metadata": {},
   "outputs": [],
   "source": [
    "from transformers import EvalPrediction\n",
    "\n",
    "def multi_label_metrics(predictions, labels, threshold=0.5):\n",
    "    # source: https://jesusleal.io/2021/04/21/Longformer-multilabel-classification/\n",
    "    # first, apply sigmoid on predictions which are of shape (batch_size, num_labels)\n",
    "    sigmoid = torch.nn.Sigmoid()\n",
    "    probs = sigmoid(torch.Tensor(predictions))\n",
    "    # next, use threshold to turn them into integer predictions\n",
    "    y_pred = np.zeros(probs.shape)\n",
    "    y_pred[np.where(probs >= threshold)] = 1\n",
    "    # finally, compute metrics\n",
    "    y_true = labels\n",
    "    f1_micro_average = f1_score(y_true=y_true, y_pred=y_pred, average='micro')\n",
    "    roc_auc = roc_auc_score(y_true, y_pred, average = 'micro')\n",
    "    accuracy = accuracy_score(y_true, y_pred)\n",
    "    # return as dictionary\n",
    "    metrics = {'f1': f1_micro_average,\n",
    "               'roc_auc': roc_auc,\n",
    "               'accuracy': accuracy}\n",
    "    return metrics\n",
    "\n",
    "def compute_metrics(p: EvalPrediction):\n",
    "    preds = p.predictions[0] if isinstance(p.predictions, \n",
    "            tuple) else p.predictions\n",
    "    result = multi_label_metrics(\n",
    "        predictions=preds, \n",
    "        labels=p.label_ids)\n",
    "    return result\n",
    "\n",
    "import numpy as np\n",
    "\n",
    "# consider std text clf that assumes more of a softmax process\n",
    "def compute_metrics_multiclass_singlelabel(p: EvalPrediction):\n",
    "    predictions = p.predictions[0] if isinstance(p.predictions, \n",
    "            tuple) else p.predictions\n",
    "    labels = p.label_ids\n",
    "    predictions = np.argmax(predictions, axis=1)\n",
    "    return accuracy.compute(predictions=predictions, references=labels)"
   ]
  },
  {
   "cell_type": "code",
   "execution_count": null,
   "id": "4b3fccf2",
   "metadata": {},
   "outputs": [],
   "source": [
    "vars(train_loader)"
   ]
  },
  {
   "cell_type": "markdown",
   "id": "7bcdd384",
   "metadata": {
    "tags": []
   },
   "source": [
    "### Custom batch sampling"
   ]
  },
  {
   "cell_type": "code",
   "execution_count": 35,
   "id": "f90414a3",
   "metadata": {},
   "outputs": [],
   "source": [
    "BASE = 10\n",
    "\n",
    "VALID_SIZE = 0.1\n",
    "BATCH_SIZE = 32\n",
    "SEED = 42\n",
    "METRIC_NAME = \"f1\"\n",
    "N_EPOCHS = 50\n",
    "LEARNING_RATE = 2e-5"
   ]
  },
  {
   "cell_type": "markdown",
   "id": "12515f4c",
   "metadata": {},
   "source": [
    "### experiment - sequential supervision"
   ]
  },
  {
   "cell_type": "code",
   "execution_count": 36,
   "id": "5079f9fd",
   "metadata": {
    "tags": []
   },
   "outputs": [
    {
     "name": "stdout",
     "output_type": "stream",
     "text": [
      "Batch number #0:  [0, 1, 2, 3, 4, 5, 6, 7, 8, 9]\n",
      "Batch number #1:  [0, 1, 2, 3, 4, 5, 6, 7, 8, 9, 10, 11, 12, 13, 14, 15, 16, 17, 18, 19, 20, 21, 22, 23, 24, 25, 26, 27, 28, 29, 30, 31, 32, 33, 34, 35, 36, 37, 38, 39, 40, 41, 42, 43, 44, 45, 46, 47, 48, 49, 50, 51, 52, 53, 54, 55, 56, 57, 58, 59, 60, 61, 62, 63, 64, 65, 66, 67, 68, 69, 70, 71, 72, 73, 74, 75, 76, 77, 78, 79, 80, 81, 82, 83, 84, 85, 86, 87, 88, 89, 90, 91, 92, 93, 94, 95, 96, 97, 98, 99]\n"
     ]
    }
   ],
   "source": [
    "from training_utils import SequentialTrainingBatchSampler\n",
    "BASE=10\n",
    "custom_sequential_sampler = SequentialTrainingBatchSampler(encoded_dataset['train'], batch_size=-1, base=BASE)\n",
    "for i, batch in enumerate(custom_sequential_sampler):\n",
    "    print(f\"Batch number #{i}:  {batch}\")\n",
    "    if i>=1:\n",
    "        break"
   ]
  },
  {
   "cell_type": "code",
   "execution_count": 37,
   "id": "8d64fb9e",
   "metadata": {
    "jupyter": {
     "source_hidden": true
    },
    "tags": []
   },
   "outputs": [
    {
     "data": {
      "text/plain": [
       "(device(type='cpu'), 6, PosixPath('data/models_20230606'))"
      ]
     },
     "execution_count": 37,
     "metadata": {},
     "output_type": "execute_result"
    }
   ],
   "source": [
    "model.device, len(custom_sequential_sampler), MODEL_DIR"
   ]
  },
  {
   "cell_type": "code",
   "execution_count": null,
   "id": "f5e955a6-4340-442b-90e5-2fb425fba15b",
   "metadata": {},
   "outputs": [],
   "source": [
    "from torch.utils.data import Subset\n",
    "total_subset_idx = []\n",
    "sequential_supervision_val_scores = []\n",
    "sequential_supervision_test_scores = []\n",
    "for idx, idx_batch in enumerate(custom_sequential_sampler):\n",
    "    #if idx<4:\n",
    "    batch_dataset = Subset(encoded_dataset['train'], idx_batch)\n",
    "    print(f\"Number of training data points: {len(idx_batch)}\")\n",
    "    args = TrainingArguments(\n",
    "        output_dir=str(MODEL_DIR)+f\"{len(idx_batch)}\",\n",
    "    evaluation_strategy=\"epoch\",\n",
    "    save_strategy=\"epoch\",\n",
    "    learning_rate=2e-5,\n",
    "    per_device_train_batch_size=BATCH_SIZE,\n",
    "    per_device_eval_batch_size=BATCH_SIZE,\n",
    "    num_train_epochs=5,\n",
    "    weight_decay=0.01,\n",
    "    load_best_model_at_end=True,\n",
    "    #metric_for_best_model=METRIC_NAME,\n",
    "    logging_dir='./logs',            # directory for storing logs*\n",
    "    logging_steps=2000,\n",
    "    report_to='wandb',\n",
    "    save_total_limit = 2,\n",
    "    )\n",
    "\n",
    "    trainer = Trainer(\n",
    "                model,\n",
    "                args,\n",
    "                train_dataset=batch_dataset,\n",
    "                eval_dataset=encoded_dataset['valid'],\n",
    "                tokenizer=tokenizer,\n",
    "                data_collator=data_collator\n",
    "            )\n",
    "    trainer.train()\n",
    "    \n",
    "    print(f\"evaluating on validation set\")\n",
    "    trainer.eval_dataset=encoded_dataset['valid']\n",
    "    val_scores = trainer.evaluate()        \n",
    "    sequential_supervision_val_scores.append(val_scores)\n",
    "    \n",
    "    print(f\"evaluating on test set\")\n",
    "    #prep\n",
    "\n",
    "\n",
    "    #trainer.save()"
   ]
  },
  {
   "cell_type": "code",
   "execution_count": 45,
   "id": "27e28b85-b613-4e96-adb0-767397248c1c",
   "metadata": {},
   "outputs": [],
   "source": [
    "from torch.utils.data import Subset\n",
    "from typing import Callable\n",
    "from transformers import EarlyStoppingCallback\n",
    "MODEL_DIR_NEW = Path(f\"data/models_20230606_new\")\n",
    "\n",
    "def train_model_series_with_sequential_sampler(batch_size=BATCH_SIZE, n_epochs=5,\n",
    "                                              compute_metrics: Callable = None, output_model_dir=MODEL_DIR_NEW, \n",
    "                                               learning_rate=LEARNING_RATE, metric_name=METRIC_NAME):\n",
    "    total_subset_idx = []\n",
    "    sequential_supervision_val_scores = []\n",
    "    sequential_supervision_test_scores = []\n",
    "    for idx, idx_batch in enumerate(custom_sequential_sampler):\n",
    "        print(idx)\n",
    "        if idx>4:\n",
    "            break\n",
    "        sequence_n_output_dir = output_model_dir.joinpath(f\"_{idx}\")\n",
    "        batch_dataset = Subset(encoded_dataset['train'], idx_batch)\n",
    "        print(f\"Number of training data points: {len(idx_batch)}\")\n",
    "        args = TrainingArguments(\n",
    "            output_dir=sequence_n_output_dir,\n",
    "            evaluation_strategy=\"steps\", #epoch\",\n",
    "            eval_steps = 500,\n",
    "            save_strategy=\"steps\", #epoch\",\n",
    "            learning_rate=learning_rate,\n",
    "            per_device_train_batch_size=batch_size,\n",
    "            per_device_eval_batch_size=batch_size,\n",
    "            num_train_epochs=n_epochs,\n",
    "            weight_decay=0.01,\n",
    "            metric_for_best_model=metric_name,\n",
    "            logging_dir='./logs',            # directory for storing logs*\n",
    "            logging_steps=2000,\n",
    "            # report_to='wandb',\n",
    "            load_best_model_at_end = True,\n",
    "            save_total_limit = 2,\n",
    "        )\n",
    "\n",
    "        trainer = Trainer(\n",
    "                    model,\n",
    "                    args,\n",
    "                    train_dataset=batch_dataset,\n",
    "                    eval_dataset=encoded_dataset['valid'],\n",
    "                    tokenizer=tokenizer,\n",
    "                    compute_metrics=compute_metrics,\n",
    "            #callbacks = [EarlyStoppingCallback(early_stopping_patience=3)]\n",
    "                    #data_collator=data_collator\n",
    "                )\n",
    "        trainer.train()\n",
    "\n",
    "\n",
    "        print(f\"evaluating on test set\")\n",
    "        trainer.eval_dataset=encoded_dataset['test']\n",
    "        test_scores = trainer.evaluate()\n",
    "        sequential_supervision_test_scores.append(test_scores)\n",
    "        #trainer.save()\n",
    "\n",
    "\n",
    "        print(f\"evaluating on validation set\")\n",
    "        trainer.eval_dataset=encoded_dataset['valid']\n",
    "        val_scores = trainer.evaluate()        \n",
    "        sequential_supervision_val_scores.append(val_scores)\n",
    "    \n",
    "    return sequential_supervision_val_scores, sequential_supervision_test_scores\n",
    "\n"
   ]
  },
  {
   "cell_type": "code",
   "execution_count": 46,
   "id": "492efa72-1ea1-4c46-970c-63c24bbe8013",
   "metadata": {
    "tags": []
   },
   "outputs": [
    {
     "name": "stderr",
     "output_type": "stream",
     "text": [
      "PyTorch: setting up devices\n",
      "The default value for the training argument `--report_to` will change in v5 (from all installed integrations to none). In v5, you will need to use `--report_to all` to get the same behavior as now. You should start updating your code and make this info disappear :-).\n",
      "/home/jovyan/.conda/envs/bioblp-env/lib/python3.9/site-packages/transformers/optimization.py:306: FutureWarning: This implementation of AdamW is deprecated and will be removed in a future version. Use the PyTorch implementation torch.optim.AdamW instead, or set `no_deprecation_warning=True` to disable this warning\n",
      "  warnings.warn(\n",
      "***** Running training *****\n",
      "  Num examples = 10\n",
      "  Num Epochs = 5\n",
      "  Instantaneous batch size per device = 32\n",
      "  Total train batch size (w. parallel, distributed & accumulation) = 32\n",
      "  Gradient Accumulation steps = 1\n",
      "  Total optimization steps = 5\n",
      "Automatic Weights & Biases logging enabled, to disable set os.environ[\"WANDB_DISABLED\"] = \"true\"\n",
      "The following columns in the training set don't have a corresponding argument in `GPT2ForSequenceClassification.forward` and have been ignored: text. If text are not expected by `GPT2ForSequenceClassification.forward`,  you can safely ignore this message.\n"
     ]
    },
    {
     "name": "stdout",
     "output_type": "stream",
     "text": [
      "0\n",
      "Number of training data points: 10\n"
     ]
    },
    {
     "data": {
      "text/html": [
       "\n",
       "    <div>\n",
       "      \n",
       "      <progress value='5' max='5' style='width:300px; height:20px; vertical-align: middle;'></progress>\n",
       "      [5/5 00:12, Epoch 5/5]\n",
       "    </div>\n",
       "    <table border=\"1\" class=\"dataframe\">\n",
       "  <thead>\n",
       " <tr style=\"text-align: left;\">\n",
       "      <th>Step</th>\n",
       "      <th>Training Loss</th>\n",
       "      <th>Validation Loss</th>\n",
       "    </tr>\n",
       "  </thead>\n",
       "  <tbody>\n",
       "  </tbody>\n",
       "</table><p>"
      ],
      "text/plain": [
       "<IPython.core.display.HTML object>"
      ]
     },
     "metadata": {},
     "output_type": "display_data"
    },
    {
     "name": "stderr",
     "output_type": "stream",
     "text": [
      "\n",
      "\n",
      "Training completed. Do not forget to share your model on huggingface.co/models =)\n",
      "\n",
      "\n",
      "The following columns in the evaluation set don't have a corresponding argument in `GPT2ForSequenceClassification.forward` and have been ignored: text. If text are not expected by `GPT2ForSequenceClassification.forward`,  you can safely ignore this message.\n",
      "***** Running Evaluation *****\n",
      "  Num examples = 7600\n",
      "  Batch size = 32\n"
     ]
    },
    {
     "name": "stdout",
     "output_type": "stream",
     "text": [
      "evaluating on test set\n"
     ]
    },
    {
     "data": {
      "text/html": [
       "\n",
       "    <div>\n",
       "      \n",
       "      <progress value='613' max='238' style='width:300px; height:20px; vertical-align: middle;'></progress>\n",
       "      [238/238 23:45]\n",
       "    </div>\n",
       "    "
      ],
      "text/plain": [
       "<IPython.core.display.HTML object>"
      ]
     },
     "metadata": {},
     "output_type": "display_data"
    },
    {
     "name": "stderr",
     "output_type": "stream",
     "text": [
      "The following columns in the evaluation set don't have a corresponding argument in `GPT2ForSequenceClassification.forward` and have been ignored: text. If text are not expected by `GPT2ForSequenceClassification.forward`,  you can safely ignore this message.\n",
      "***** Running Evaluation *****\n",
      "  Num examples = 12000\n",
      "  Batch size = 32\n"
     ]
    },
    {
     "name": "stdout",
     "output_type": "stream",
     "text": [
      "evaluating on validation set\n"
     ]
    },
    {
     "name": "stderr",
     "output_type": "stream",
     "text": [
      "PyTorch: setting up devices\n",
      "The default value for the training argument `--report_to` will change in v5 (from all installed integrations to none). In v5, you will need to use `--report_to all` to get the same behavior as now. You should start updating your code and make this info disappear :-).\n",
      "/home/jovyan/.conda/envs/bioblp-env/lib/python3.9/site-packages/transformers/optimization.py:306: FutureWarning: This implementation of AdamW is deprecated and will be removed in a future version. Use the PyTorch implementation torch.optim.AdamW instead, or set `no_deprecation_warning=True` to disable this warning\n",
      "  warnings.warn(\n",
      "***** Running training *****\n",
      "  Num examples = 100\n",
      "  Num Epochs = 5\n",
      "  Instantaneous batch size per device = 32\n",
      "  Total train batch size (w. parallel, distributed & accumulation) = 32\n",
      "  Gradient Accumulation steps = 1\n",
      "  Total optimization steps = 20\n",
      "Automatic Weights & Biases logging enabled, to disable set os.environ[\"WANDB_DISABLED\"] = \"true\"\n",
      "The following columns in the training set don't have a corresponding argument in `GPT2ForSequenceClassification.forward` and have been ignored: text. If text are not expected by `GPT2ForSequenceClassification.forward`,  you can safely ignore this message.\n"
     ]
    },
    {
     "name": "stdout",
     "output_type": "stream",
     "text": [
      "1\n",
      "Number of training data points: 100\n"
     ]
    },
    {
     "data": {
      "text/html": [
       "\n",
       "    <div>\n",
       "      \n",
       "      <progress value='20' max='20' style='width:300px; height:20px; vertical-align: middle;'></progress>\n",
       "      [20/20 02:07, Epoch 5/5]\n",
       "    </div>\n",
       "    <table border=\"1\" class=\"dataframe\">\n",
       "  <thead>\n",
       " <tr style=\"text-align: left;\">\n",
       "      <th>Step</th>\n",
       "      <th>Training Loss</th>\n",
       "      <th>Validation Loss</th>\n",
       "    </tr>\n",
       "  </thead>\n",
       "  <tbody>\n",
       "  </tbody>\n",
       "</table><p>"
      ],
      "text/plain": [
       "<IPython.core.display.HTML object>"
      ]
     },
     "metadata": {},
     "output_type": "display_data"
    },
    {
     "name": "stderr",
     "output_type": "stream",
     "text": [
      "\n",
      "\n",
      "Training completed. Do not forget to share your model on huggingface.co/models =)\n",
      "\n",
      "\n",
      "The following columns in the evaluation set don't have a corresponding argument in `GPT2ForSequenceClassification.forward` and have been ignored: text. If text are not expected by `GPT2ForSequenceClassification.forward`,  you can safely ignore this message.\n",
      "***** Running Evaluation *****\n",
      "  Num examples = 7600\n",
      "  Batch size = 32\n"
     ]
    },
    {
     "name": "stdout",
     "output_type": "stream",
     "text": [
      "evaluating on test set\n"
     ]
    },
    {
     "data": {
      "text/html": [
       "\n",
       "    <div>\n",
       "      \n",
       "      <progress value='613' max='238' style='width:300px; height:20px; vertical-align: middle;'></progress>\n",
       "      [238/238 23:33]\n",
       "    </div>\n",
       "    "
      ],
      "text/plain": [
       "<IPython.core.display.HTML object>"
      ]
     },
     "metadata": {},
     "output_type": "display_data"
    },
    {
     "name": "stderr",
     "output_type": "stream",
     "text": [
      "The following columns in the evaluation set don't have a corresponding argument in `GPT2ForSequenceClassification.forward` and have been ignored: text. If text are not expected by `GPT2ForSequenceClassification.forward`,  you can safely ignore this message.\n",
      "***** Running Evaluation *****\n",
      "  Num examples = 12000\n",
      "  Batch size = 32\n"
     ]
    },
    {
     "name": "stdout",
     "output_type": "stream",
     "text": [
      "evaluating on validation set\n"
     ]
    },
    {
     "name": "stderr",
     "output_type": "stream",
     "text": [
      "PyTorch: setting up devices\n",
      "The default value for the training argument `--report_to` will change in v5 (from all installed integrations to none). In v5, you will need to use `--report_to all` to get the same behavior as now. You should start updating your code and make this info disappear :-).\n",
      "/home/jovyan/.conda/envs/bioblp-env/lib/python3.9/site-packages/transformers/optimization.py:306: FutureWarning: This implementation of AdamW is deprecated and will be removed in a future version. Use the PyTorch implementation torch.optim.AdamW instead, or set `no_deprecation_warning=True` to disable this warning\n",
      "  warnings.warn(\n",
      "***** Running training *****\n",
      "  Num examples = 1000\n",
      "  Num Epochs = 5\n",
      "  Instantaneous batch size per device = 32\n",
      "  Total train batch size (w. parallel, distributed & accumulation) = 32\n",
      "  Gradient Accumulation steps = 1\n",
      "  Total optimization steps = 160\n",
      "Automatic Weights & Biases logging enabled, to disable set os.environ[\"WANDB_DISABLED\"] = \"true\"\n"
     ]
    },
    {
     "name": "stdout",
     "output_type": "stream",
     "text": [
      "2\n",
      "Number of training data points: 1000\n"
     ]
    },
    {
     "name": "stderr",
     "output_type": "stream",
     "text": [
      "The following columns in the training set don't have a corresponding argument in `GPT2ForSequenceClassification.forward` and have been ignored: text. If text are not expected by `GPT2ForSequenceClassification.forward`,  you can safely ignore this message.\n"
     ]
    },
    {
     "data": {
      "text/html": [
       "\n",
       "    <div>\n",
       "      \n",
       "      <progress value='160' max='160' style='width:300px; height:20px; vertical-align: middle;'></progress>\n",
       "      [160/160 20:15, Epoch 5/5]\n",
       "    </div>\n",
       "    <table border=\"1\" class=\"dataframe\">\n",
       "  <thead>\n",
       " <tr style=\"text-align: left;\">\n",
       "      <th>Step</th>\n",
       "      <th>Training Loss</th>\n",
       "      <th>Validation Loss</th>\n",
       "    </tr>\n",
       "  </thead>\n",
       "  <tbody>\n",
       "  </tbody>\n",
       "</table><p>"
      ],
      "text/plain": [
       "<IPython.core.display.HTML object>"
      ]
     },
     "metadata": {},
     "output_type": "display_data"
    },
    {
     "name": "stderr",
     "output_type": "stream",
     "text": [
      "\n",
      "\n",
      "Training completed. Do not forget to share your model on huggingface.co/models =)\n",
      "\n",
      "\n",
      "The following columns in the evaluation set don't have a corresponding argument in `GPT2ForSequenceClassification.forward` and have been ignored: text. If text are not expected by `GPT2ForSequenceClassification.forward`,  you can safely ignore this message.\n",
      "***** Running Evaluation *****\n",
      "  Num examples = 7600\n",
      "  Batch size = 32\n"
     ]
    },
    {
     "name": "stdout",
     "output_type": "stream",
     "text": [
      "evaluating on test set\n"
     ]
    },
    {
     "data": {
      "text/html": [
       "\n",
       "    <div>\n",
       "      \n",
       "      <progress value='613' max='238' style='width:300px; height:20px; vertical-align: middle;'></progress>\n",
       "      [238/238 23:38]\n",
       "    </div>\n",
       "    "
      ],
      "text/plain": [
       "<IPython.core.display.HTML object>"
      ]
     },
     "metadata": {},
     "output_type": "display_data"
    },
    {
     "name": "stderr",
     "output_type": "stream",
     "text": [
      "The following columns in the evaluation set don't have a corresponding argument in `GPT2ForSequenceClassification.forward` and have been ignored: text. If text are not expected by `GPT2ForSequenceClassification.forward`,  you can safely ignore this message.\n",
      "***** Running Evaluation *****\n",
      "  Num examples = 12000\n",
      "  Batch size = 32\n"
     ]
    },
    {
     "name": "stdout",
     "output_type": "stream",
     "text": [
      "evaluating on validation set\n"
     ]
    },
    {
     "name": "stderr",
     "output_type": "stream",
     "text": [
      "PyTorch: setting up devices\n",
      "The default value for the training argument `--report_to` will change in v5 (from all installed integrations to none). In v5, you will need to use `--report_to all` to get the same behavior as now. You should start updating your code and make this info disappear :-).\n",
      "/home/jovyan/.conda/envs/bioblp-env/lib/python3.9/site-packages/transformers/optimization.py:306: FutureWarning: This implementation of AdamW is deprecated and will be removed in a future version. Use the PyTorch implementation torch.optim.AdamW instead, or set `no_deprecation_warning=True` to disable this warning\n",
      "  warnings.warn(\n",
      "***** Running training *****\n",
      "  Num examples = 10000\n",
      "  Num Epochs = 5\n",
      "  Instantaneous batch size per device = 32\n",
      "  Total train batch size (w. parallel, distributed & accumulation) = 32\n",
      "  Gradient Accumulation steps = 1\n",
      "  Total optimization steps = 1565\n"
     ]
    },
    {
     "name": "stdout",
     "output_type": "stream",
     "text": [
      "3\n",
      "Number of training data points: 10000\n"
     ]
    },
    {
     "name": "stderr",
     "output_type": "stream",
     "text": [
      "Automatic Weights & Biases logging enabled, to disable set os.environ[\"WANDB_DISABLED\"] = \"true\"\n",
      "The following columns in the training set don't have a corresponding argument in `GPT2ForSequenceClassification.forward` and have been ignored: text. If text are not expected by `GPT2ForSequenceClassification.forward`,  you can safely ignore this message.\n"
     ]
    },
    {
     "data": {
      "text/html": [
       "\n",
       "    <div>\n",
       "      \n",
       "      <progress value='1565' max='1565' style='width:300px; height:20px; vertical-align: middle;'></progress>\n",
       "      [1565/1565 4:05:22, Epoch 5/5]\n",
       "    </div>\n",
       "    <table border=\"1\" class=\"dataframe\">\n",
       "  <thead>\n",
       " <tr style=\"text-align: left;\">\n",
       "      <th>Step</th>\n",
       "      <th>Training Loss</th>\n",
       "      <th>Validation Loss</th>\n",
       "      <th>F1</th>\n",
       "      <th>Roc Auc</th>\n",
       "      <th>Accuracy</th>\n",
       "    </tr>\n",
       "  </thead>\n",
       "  <tbody>\n",
       "    <tr>\n",
       "      <td>500</td>\n",
       "      <td>No log</td>\n",
       "      <td>0.118460</td>\n",
       "      <td>0.912121</td>\n",
       "      <td>0.938667</td>\n",
       "      <td>0.893500</td>\n",
       "    </tr>\n",
       "    <tr>\n",
       "      <td>1000</td>\n",
       "      <td>No log</td>\n",
       "      <td>0.119375</td>\n",
       "      <td>0.918987</td>\n",
       "      <td>0.945083</td>\n",
       "      <td>0.904500</td>\n",
       "    </tr>\n",
       "    <tr>\n",
       "      <td>1500</td>\n",
       "      <td>No log</td>\n",
       "      <td>0.121148</td>\n",
       "      <td>0.920249</td>\n",
       "      <td>0.946097</td>\n",
       "      <td>0.906750</td>\n",
       "    </tr>\n",
       "  </tbody>\n",
       "</table><p>"
      ],
      "text/plain": [
       "<IPython.core.display.HTML object>"
      ]
     },
     "metadata": {},
     "output_type": "display_data"
    },
    {
     "name": "stderr",
     "output_type": "stream",
     "text": [
      "The following columns in the evaluation set don't have a corresponding argument in `GPT2ForSequenceClassification.forward` and have been ignored: text. If text are not expected by `GPT2ForSequenceClassification.forward`,  you can safely ignore this message.\n",
      "***** Running Evaluation *****\n",
      "  Num examples = 12000\n",
      "  Batch size = 32\n",
      "Saving model checkpoint to data/models_20230606_new/_3/checkpoint-500\n",
      "Configuration saved in data/models_20230606_new/_3/checkpoint-500/config.json\n",
      "Model weights saved in data/models_20230606_new/_3/checkpoint-500/pytorch_model.bin\n",
      "tokenizer config file saved in data/models_20230606_new/_3/checkpoint-500/tokenizer_config.json\n",
      "Special tokens file saved in data/models_20230606_new/_3/checkpoint-500/special_tokens_map.json\n",
      "The following columns in the evaluation set don't have a corresponding argument in `GPT2ForSequenceClassification.forward` and have been ignored: text. If text are not expected by `GPT2ForSequenceClassification.forward`,  you can safely ignore this message.\n",
      "***** Running Evaluation *****\n",
      "  Num examples = 12000\n",
      "  Batch size = 32\n",
      "Saving model checkpoint to data/models_20230606_new/_3/checkpoint-1000\n",
      "Configuration saved in data/models_20230606_new/_3/checkpoint-1000/config.json\n",
      "Model weights saved in data/models_20230606_new/_3/checkpoint-1000/pytorch_model.bin\n",
      "tokenizer config file saved in data/models_20230606_new/_3/checkpoint-1000/tokenizer_config.json\n",
      "Special tokens file saved in data/models_20230606_new/_3/checkpoint-1000/special_tokens_map.json\n",
      "The following columns in the evaluation set don't have a corresponding argument in `GPT2ForSequenceClassification.forward` and have been ignored: text. If text are not expected by `GPT2ForSequenceClassification.forward`,  you can safely ignore this message.\n",
      "***** Running Evaluation *****\n",
      "  Num examples = 12000\n",
      "  Batch size = 32\n",
      "Saving model checkpoint to data/models_20230606_new/_3/checkpoint-1500\n",
      "Configuration saved in data/models_20230606_new/_3/checkpoint-1500/config.json\n",
      "Model weights saved in data/models_20230606_new/_3/checkpoint-1500/pytorch_model.bin\n",
      "tokenizer config file saved in data/models_20230606_new/_3/checkpoint-1500/tokenizer_config.json\n",
      "Special tokens file saved in data/models_20230606_new/_3/checkpoint-1500/special_tokens_map.json\n",
      "Deleting older checkpoint [data/models_20230606_new/_3/checkpoint-500] due to args.save_total_limit\n",
      "\n",
      "\n",
      "Training completed. Do not forget to share your model on huggingface.co/models =)\n",
      "\n",
      "\n",
      "Loading best model from data/models_20230606_new/_3/checkpoint-1500 (score: 0.9202489869240088).\n",
      "The following columns in the evaluation set don't have a corresponding argument in `GPT2ForSequenceClassification.forward` and have been ignored: text. If text are not expected by `GPT2ForSequenceClassification.forward`,  you can safely ignore this message.\n",
      "***** Running Evaluation *****\n",
      "  Num examples = 7600\n",
      "  Batch size = 32\n"
     ]
    },
    {
     "name": "stdout",
     "output_type": "stream",
     "text": [
      "evaluating on test set\n"
     ]
    },
    {
     "data": {
      "text/html": [
       "\n",
       "    <div>\n",
       "      \n",
       "      <progress value='613' max='238' style='width:300px; height:20px; vertical-align: middle;'></progress>\n",
       "      [238/238 23:35]\n",
       "    </div>\n",
       "    "
      ],
      "text/plain": [
       "<IPython.core.display.HTML object>"
      ]
     },
     "metadata": {},
     "output_type": "display_data"
    },
    {
     "name": "stderr",
     "output_type": "stream",
     "text": [
      "The following columns in the evaluation set don't have a corresponding argument in `GPT2ForSequenceClassification.forward` and have been ignored: text. If text are not expected by `GPT2ForSequenceClassification.forward`,  you can safely ignore this message.\n",
      "***** Running Evaluation *****\n",
      "  Num examples = 12000\n",
      "  Batch size = 32\n"
     ]
    },
    {
     "name": "stdout",
     "output_type": "stream",
     "text": [
      "evaluating on validation set\n"
     ]
    },
    {
     "name": "stderr",
     "output_type": "stream",
     "text": [
      "PyTorch: setting up devices\n",
      "The default value for the training argument `--report_to` will change in v5 (from all installed integrations to none). In v5, you will need to use `--report_to all` to get the same behavior as now. You should start updating your code and make this info disappear :-).\n",
      "/home/jovyan/.conda/envs/bioblp-env/lib/python3.9/site-packages/transformers/optimization.py:306: FutureWarning: This implementation of AdamW is deprecated and will be removed in a future version. Use the PyTorch implementation torch.optim.AdamW instead, or set `no_deprecation_warning=True` to disable this warning\n",
      "  warnings.warn(\n",
      "***** Running training *****\n",
      "  Num examples = 100000\n",
      "  Num Epochs = 5\n",
      "  Instantaneous batch size per device = 32\n",
      "  Total train batch size (w. parallel, distributed & accumulation) = 32\n",
      "  Gradient Accumulation steps = 1\n",
      "  Total optimization steps = 15625\n",
      "Automatic Weights & Biases logging enabled, to disable set os.environ[\"WANDB_DISABLED\"] = \"true\"\n",
      "The following columns in the training set don't have a corresponding argument in `GPT2ForSequenceClassification.forward` and have been ignored: text. If text are not expected by `GPT2ForSequenceClassification.forward`,  you can safely ignore this message.\n"
     ]
    },
    {
     "name": "stdout",
     "output_type": "stream",
     "text": [
      "4\n",
      "Number of training data points: 100000\n"
     ]
    },
    {
     "data": {
      "text/html": [
       "\n",
       "    <div>\n",
       "      \n",
       "      <progress value='15625' max='15625' style='width:300px; height:20px; vertical-align: middle;'></progress>\n",
       "      [15625/15625 41:01:43, Epoch 5/5]\n",
       "    </div>\n",
       "    <table border=\"1\" class=\"dataframe\">\n",
       "  <thead>\n",
       " <tr style=\"text-align: left;\">\n",
       "      <th>Step</th>\n",
       "      <th>Training Loss</th>\n",
       "      <th>Validation Loss</th>\n",
       "      <th>F1</th>\n",
       "      <th>Roc Auc</th>\n",
       "      <th>Accuracy</th>\n",
       "    </tr>\n",
       "  </thead>\n",
       "  <tbody>\n",
       "    <tr>\n",
       "      <td>500</td>\n",
       "      <td>No log</td>\n",
       "      <td>0.101411</td>\n",
       "      <td>0.925276</td>\n",
       "      <td>0.949333</td>\n",
       "      <td>0.913167</td>\n",
       "    </tr>\n",
       "    <tr>\n",
       "      <td>1000</td>\n",
       "      <td>No log</td>\n",
       "      <td>0.095647</td>\n",
       "      <td>0.929044</td>\n",
       "      <td>0.951528</td>\n",
       "      <td>0.917917</td>\n",
       "    </tr>\n",
       "    <tr>\n",
       "      <td>1500</td>\n",
       "      <td>No log</td>\n",
       "      <td>0.093947</td>\n",
       "      <td>0.931352</td>\n",
       "      <td>0.952917</td>\n",
       "      <td>0.921083</td>\n",
       "    </tr>\n",
       "    <tr>\n",
       "      <td>2000</td>\n",
       "      <td>0.101300</td>\n",
       "      <td>0.088588</td>\n",
       "      <td>0.934282</td>\n",
       "      <td>0.954861</td>\n",
       "      <td>0.925083</td>\n",
       "    </tr>\n",
       "    <tr>\n",
       "      <td>2500</td>\n",
       "      <td>0.101300</td>\n",
       "      <td>0.090575</td>\n",
       "      <td>0.933149</td>\n",
       "      <td>0.954639</td>\n",
       "      <td>0.924083</td>\n",
       "    </tr>\n",
       "    <tr>\n",
       "      <td>3000</td>\n",
       "      <td>0.101300</td>\n",
       "      <td>0.083051</td>\n",
       "      <td>0.938470</td>\n",
       "      <td>0.957847</td>\n",
       "      <td>0.930500</td>\n",
       "    </tr>\n",
       "    <tr>\n",
       "      <td>3500</td>\n",
       "      <td>0.101300</td>\n",
       "      <td>0.087891</td>\n",
       "      <td>0.938542</td>\n",
       "      <td>0.958236</td>\n",
       "      <td>0.931500</td>\n",
       "    </tr>\n",
       "    <tr>\n",
       "      <td>4000</td>\n",
       "      <td>0.082200</td>\n",
       "      <td>0.093764</td>\n",
       "      <td>0.937957</td>\n",
       "      <td>0.957847</td>\n",
       "      <td>0.931917</td>\n",
       "    </tr>\n",
       "    <tr>\n",
       "      <td>4500</td>\n",
       "      <td>0.082200</td>\n",
       "      <td>0.085054</td>\n",
       "      <td>0.936865</td>\n",
       "      <td>0.956708</td>\n",
       "      <td>0.929417</td>\n",
       "    </tr>\n",
       "    <tr>\n",
       "      <td>5000</td>\n",
       "      <td>0.082200</td>\n",
       "      <td>0.082930</td>\n",
       "      <td>0.940764</td>\n",
       "      <td>0.959750</td>\n",
       "      <td>0.932667</td>\n",
       "    </tr>\n",
       "    <tr>\n",
       "      <td>5500</td>\n",
       "      <td>0.082200</td>\n",
       "      <td>0.089090</td>\n",
       "      <td>0.937343</td>\n",
       "      <td>0.957500</td>\n",
       "      <td>0.930917</td>\n",
       "    </tr>\n",
       "    <tr>\n",
       "      <td>6000</td>\n",
       "      <td>0.071200</td>\n",
       "      <td>0.083280</td>\n",
       "      <td>0.941486</td>\n",
       "      <td>0.960500</td>\n",
       "      <td>0.934583</td>\n",
       "    </tr>\n",
       "    <tr>\n",
       "      <td>6500</td>\n",
       "      <td>0.071200</td>\n",
       "      <td>0.086314</td>\n",
       "      <td>0.937610</td>\n",
       "      <td>0.957750</td>\n",
       "      <td>0.930417</td>\n",
       "    </tr>\n",
       "    <tr>\n",
       "      <td>7000</td>\n",
       "      <td>0.071200</td>\n",
       "      <td>0.085367</td>\n",
       "      <td>0.940872</td>\n",
       "      <td>0.959736</td>\n",
       "      <td>0.934250</td>\n",
       "    </tr>\n",
       "    <tr>\n",
       "      <td>7500</td>\n",
       "      <td>0.071200</td>\n",
       "      <td>0.086309</td>\n",
       "      <td>0.941893</td>\n",
       "      <td>0.960722</td>\n",
       "      <td>0.935333</td>\n",
       "    </tr>\n",
       "    <tr>\n",
       "      <td>8000</td>\n",
       "      <td>0.059200</td>\n",
       "      <td>0.081899</td>\n",
       "      <td>0.943089</td>\n",
       "      <td>0.961222</td>\n",
       "      <td>0.936667</td>\n",
       "    </tr>\n",
       "    <tr>\n",
       "      <td>8500</td>\n",
       "      <td>0.059200</td>\n",
       "      <td>0.081116</td>\n",
       "      <td>0.943458</td>\n",
       "      <td>0.961431</td>\n",
       "      <td>0.938083</td>\n",
       "    </tr>\n",
       "    <tr>\n",
       "      <td>9000</td>\n",
       "      <td>0.059200</td>\n",
       "      <td>0.083100</td>\n",
       "      <td>0.943362</td>\n",
       "      <td>0.961736</td>\n",
       "      <td>0.938333</td>\n",
       "    </tr>\n",
       "    <tr>\n",
       "      <td>9500</td>\n",
       "      <td>0.059200</td>\n",
       "      <td>0.084524</td>\n",
       "      <td>0.944437</td>\n",
       "      <td>0.962403</td>\n",
       "      <td>0.938833</td>\n",
       "    </tr>\n",
       "    <tr>\n",
       "      <td>10000</td>\n",
       "      <td>0.053700</td>\n",
       "      <td>0.087843</td>\n",
       "      <td>0.944356</td>\n",
       "      <td>0.962139</td>\n",
       "      <td>0.938417</td>\n",
       "    </tr>\n",
       "    <tr>\n",
       "      <td>10500</td>\n",
       "      <td>0.053700</td>\n",
       "      <td>0.084755</td>\n",
       "      <td>0.939746</td>\n",
       "      <td>0.959000</td>\n",
       "      <td>0.933583</td>\n",
       "    </tr>\n",
       "    <tr>\n",
       "      <td>11000</td>\n",
       "      <td>0.053700</td>\n",
       "      <td>0.091364</td>\n",
       "      <td>0.941039</td>\n",
       "      <td>0.960472</td>\n",
       "      <td>0.936000</td>\n",
       "    </tr>\n",
       "    <tr>\n",
       "      <td>11500</td>\n",
       "      <td>0.053700</td>\n",
       "      <td>0.085915</td>\n",
       "      <td>0.942400</td>\n",
       "      <td>0.960875</td>\n",
       "      <td>0.937000</td>\n",
       "    </tr>\n",
       "    <tr>\n",
       "      <td>12000</td>\n",
       "      <td>0.046400</td>\n",
       "      <td>0.089408</td>\n",
       "      <td>0.940198</td>\n",
       "      <td>0.959264</td>\n",
       "      <td>0.934833</td>\n",
       "    </tr>\n",
       "    <tr>\n",
       "      <td>12500</td>\n",
       "      <td>0.046400</td>\n",
       "      <td>0.088916</td>\n",
       "      <td>0.940533</td>\n",
       "      <td>0.959694</td>\n",
       "      <td>0.934583</td>\n",
       "    </tr>\n",
       "    <tr>\n",
       "      <td>13000</td>\n",
       "      <td>0.046400</td>\n",
       "      <td>0.094656</td>\n",
       "      <td>0.938646</td>\n",
       "      <td>0.958403</td>\n",
       "      <td>0.932833</td>\n",
       "    </tr>\n",
       "    <tr>\n",
       "      <td>13500</td>\n",
       "      <td>0.046400</td>\n",
       "      <td>0.090694</td>\n",
       "      <td>0.941275</td>\n",
       "      <td>0.960347</td>\n",
       "      <td>0.935583</td>\n",
       "    </tr>\n",
       "    <tr>\n",
       "      <td>14000</td>\n",
       "      <td>0.040800</td>\n",
       "      <td>0.093714</td>\n",
       "      <td>0.940828</td>\n",
       "      <td>0.960111</td>\n",
       "      <td>0.935167</td>\n",
       "    </tr>\n",
       "    <tr>\n",
       "      <td>14500</td>\n",
       "      <td>0.040800</td>\n",
       "      <td>0.089563</td>\n",
       "      <td>0.941127</td>\n",
       "      <td>0.960139</td>\n",
       "      <td>0.935167</td>\n",
       "    </tr>\n",
       "    <tr>\n",
       "      <td>15000</td>\n",
       "      <td>0.040800</td>\n",
       "      <td>0.091335</td>\n",
       "      <td>0.940695</td>\n",
       "      <td>0.959986</td>\n",
       "      <td>0.935333</td>\n",
       "    </tr>\n",
       "    <tr>\n",
       "      <td>15500</td>\n",
       "      <td>0.040800</td>\n",
       "      <td>0.091330</td>\n",
       "      <td>0.940749</td>\n",
       "      <td>0.960083</td>\n",
       "      <td>0.935583</td>\n",
       "    </tr>\n",
       "  </tbody>\n",
       "</table><p>"
      ],
      "text/plain": [
       "<IPython.core.display.HTML object>"
      ]
     },
     "metadata": {},
     "output_type": "display_data"
    },
    {
     "name": "stderr",
     "output_type": "stream",
     "text": [
      "The following columns in the evaluation set don't have a corresponding argument in `GPT2ForSequenceClassification.forward` and have been ignored: text. If text are not expected by `GPT2ForSequenceClassification.forward`,  you can safely ignore this message.\n",
      "***** Running Evaluation *****\n",
      "  Num examples = 12000\n",
      "  Batch size = 32\n",
      "Saving model checkpoint to data/models_20230606_new/_4/checkpoint-500\n",
      "Configuration saved in data/models_20230606_new/_4/checkpoint-500/config.json\n",
      "Model weights saved in data/models_20230606_new/_4/checkpoint-500/pytorch_model.bin\n",
      "tokenizer config file saved in data/models_20230606_new/_4/checkpoint-500/tokenizer_config.json\n",
      "Special tokens file saved in data/models_20230606_new/_4/checkpoint-500/special_tokens_map.json\n",
      "Saving model checkpoint to data/models_20230606_new/_4/checkpoint-1000\n",
      "Configuration saved in data/models_20230606_new/_4/checkpoint-1000/config.json\n",
      "Model weights saved in data/models_20230606_new/_4/checkpoint-1000/pytorch_model.bin\n",
      "tokenizer config file saved in data/models_20230606_new/_4/checkpoint-1000/tokenizer_config.json\n",
      "Special tokens file saved in data/models_20230606_new/_4/checkpoint-1000/special_tokens_map.json\n",
      "The following columns in the evaluation set don't have a corresponding argument in `GPT2ForSequenceClassification.forward` and have been ignored: text. If text are not expected by `GPT2ForSequenceClassification.forward`,  you can safely ignore this message.\n",
      "***** Running Evaluation *****\n",
      "  Num examples = 12000\n",
      "  Batch size = 32\n",
      "Saving model checkpoint to data/models_20230606_new/_4/checkpoint-1500\n",
      "Configuration saved in data/models_20230606_new/_4/checkpoint-1500/config.json\n",
      "Model weights saved in data/models_20230606_new/_4/checkpoint-1500/pytorch_model.bin\n",
      "tokenizer config file saved in data/models_20230606_new/_4/checkpoint-1500/tokenizer_config.json\n",
      "Special tokens file saved in data/models_20230606_new/_4/checkpoint-1500/special_tokens_map.json\n",
      "Deleting older checkpoint [data/models_20230606_new/_4/checkpoint-500] due to args.save_total_limit\n",
      "The following columns in the evaluation set don't have a corresponding argument in `GPT2ForSequenceClassification.forward` and have been ignored: text. If text are not expected by `GPT2ForSequenceClassification.forward`,  you can safely ignore this message.\n",
      "***** Running Evaluation *****\n",
      "  Num examples = 12000\n",
      "  Batch size = 32\n",
      "Saving model checkpoint to data/models_20230606_new/_4/checkpoint-2000\n",
      "Configuration saved in data/models_20230606_new/_4/checkpoint-2000/config.json\n",
      "Model weights saved in data/models_20230606_new/_4/checkpoint-2000/pytorch_model.bin\n",
      "tokenizer config file saved in data/models_20230606_new/_4/checkpoint-2000/tokenizer_config.json\n",
      "Special tokens file saved in data/models_20230606_new/_4/checkpoint-2000/special_tokens_map.json\n",
      "Deleting older checkpoint [data/models_20230606_new/_4/checkpoint-1000] due to args.save_total_limit\n",
      "The following columns in the evaluation set don't have a corresponding argument in `GPT2ForSequenceClassification.forward` and have been ignored: text. If text are not expected by `GPT2ForSequenceClassification.forward`,  you can safely ignore this message.\n",
      "***** Running Evaluation *****\n",
      "  Num examples = 12000\n",
      "  Batch size = 32\n",
      "Saving model checkpoint to data/models_20230606_new/_4/checkpoint-2500\n",
      "Configuration saved in data/models_20230606_new/_4/checkpoint-2500/config.json\n",
      "Model weights saved in data/models_20230606_new/_4/checkpoint-2500/pytorch_model.bin\n",
      "tokenizer config file saved in data/models_20230606_new/_4/checkpoint-2500/tokenizer_config.json\n",
      "Special tokens file saved in data/models_20230606_new/_4/checkpoint-2500/special_tokens_map.json\n",
      "Deleting older checkpoint [data/models_20230606_new/_4/checkpoint-1500] due to args.save_total_limit\n",
      "The following columns in the evaluation set don't have a corresponding argument in `GPT2ForSequenceClassification.forward` and have been ignored: text. If text are not expected by `GPT2ForSequenceClassification.forward`,  you can safely ignore this message.\n",
      "***** Running Evaluation *****\n",
      "  Num examples = 12000\n",
      "  Batch size = 32\n",
      "Saving model checkpoint to data/models_20230606_new/_4/checkpoint-3000\n",
      "Configuration saved in data/models_20230606_new/_4/checkpoint-3000/config.json\n",
      "Model weights saved in data/models_20230606_new/_4/checkpoint-3000/pytorch_model.bin\n",
      "tokenizer config file saved in data/models_20230606_new/_4/checkpoint-3000/tokenizer_config.json\n",
      "Special tokens file saved in data/models_20230606_new/_4/checkpoint-3000/special_tokens_map.json\n",
      "Deleting older checkpoint [data/models_20230606_new/_4/checkpoint-2000] due to args.save_total_limit\n",
      "The following columns in the evaluation set don't have a corresponding argument in `GPT2ForSequenceClassification.forward` and have been ignored: text. If text are not expected by `GPT2ForSequenceClassification.forward`,  you can safely ignore this message.\n",
      "***** Running Evaluation *****\n",
      "  Num examples = 12000\n",
      "  Batch size = 32\n",
      "Saving model checkpoint to data/models_20230606_new/_4/checkpoint-3500\n",
      "Configuration saved in data/models_20230606_new/_4/checkpoint-3500/config.json\n",
      "Model weights saved in data/models_20230606_new/_4/checkpoint-3500/pytorch_model.bin\n",
      "tokenizer config file saved in data/models_20230606_new/_4/checkpoint-3500/tokenizer_config.json\n",
      "Special tokens file saved in data/models_20230606_new/_4/checkpoint-3500/special_tokens_map.json\n",
      "Deleting older checkpoint [data/models_20230606_new/_4/checkpoint-2500] due to args.save_total_limit\n",
      "The following columns in the evaluation set don't have a corresponding argument in `GPT2ForSequenceClassification.forward` and have been ignored: text. If text are not expected by `GPT2ForSequenceClassification.forward`,  you can safely ignore this message.\n",
      "***** Running Evaluation *****\n",
      "  Num examples = 12000\n",
      "  Batch size = 32\n",
      "Saving model checkpoint to data/models_20230606_new/_4/checkpoint-4000\n",
      "Configuration saved in data/models_20230606_new/_4/checkpoint-4000/config.json\n",
      "Model weights saved in data/models_20230606_new/_4/checkpoint-4000/pytorch_model.bin\n",
      "tokenizer config file saved in data/models_20230606_new/_4/checkpoint-4000/tokenizer_config.json\n",
      "Special tokens file saved in data/models_20230606_new/_4/checkpoint-4000/special_tokens_map.json\n",
      "Deleting older checkpoint [data/models_20230606_new/_4/checkpoint-3000] due to args.save_total_limit\n",
      "Saving model checkpoint to data/models_20230606_new/_4/checkpoint-4500\n",
      "Configuration saved in data/models_20230606_new/_4/checkpoint-4500/config.json\n",
      "Model weights saved in data/models_20230606_new/_4/checkpoint-4500/pytorch_model.bin\n",
      "tokenizer config file saved in data/models_20230606_new/_4/checkpoint-4500/tokenizer_config.json\n",
      "Special tokens file saved in data/models_20230606_new/_4/checkpoint-4500/special_tokens_map.json\n",
      "Deleting older checkpoint [data/models_20230606_new/_4/checkpoint-4000] due to args.save_total_limit\n",
      "The following columns in the evaluation set don't have a corresponding argument in `GPT2ForSequenceClassification.forward` and have been ignored: text. If text are not expected by `GPT2ForSequenceClassification.forward`,  you can safely ignore this message.\n",
      "***** Running Evaluation *****\n",
      "  Num examples = 12000\n",
      "  Batch size = 32\n",
      "Saving model checkpoint to data/models_20230606_new/_4/checkpoint-5000\n",
      "Configuration saved in data/models_20230606_new/_4/checkpoint-5000/config.json\n",
      "Model weights saved in data/models_20230606_new/_4/checkpoint-5000/pytorch_model.bin\n",
      "tokenizer config file saved in data/models_20230606_new/_4/checkpoint-5000/tokenizer_config.json\n",
      "Special tokens file saved in data/models_20230606_new/_4/checkpoint-5000/special_tokens_map.json\n",
      "Deleting older checkpoint [data/models_20230606_new/_4/checkpoint-3500] due to args.save_total_limit\n",
      "The following columns in the evaluation set don't have a corresponding argument in `GPT2ForSequenceClassification.forward` and have been ignored: text. If text are not expected by `GPT2ForSequenceClassification.forward`,  you can safely ignore this message.\n",
      "***** Running Evaluation *****\n",
      "  Num examples = 12000\n",
      "  Batch size = 32\n",
      "Saving model checkpoint to data/models_20230606_new/_4/checkpoint-5500\n",
      "Configuration saved in data/models_20230606_new/_4/checkpoint-5500/config.json\n",
      "Model weights saved in data/models_20230606_new/_4/checkpoint-5500/pytorch_model.bin\n",
      "tokenizer config file saved in data/models_20230606_new/_4/checkpoint-5500/tokenizer_config.json\n",
      "Special tokens file saved in data/models_20230606_new/_4/checkpoint-5500/special_tokens_map.json\n",
      "Deleting older checkpoint [data/models_20230606_new/_4/checkpoint-4500] due to args.save_total_limit\n",
      "The following columns in the evaluation set don't have a corresponding argument in `GPT2ForSequenceClassification.forward` and have been ignored: text. If text are not expected by `GPT2ForSequenceClassification.forward`,  you can safely ignore this message.\n",
      "***** Running Evaluation *****\n",
      "  Num examples = 12000\n",
      "  Batch size = 32\n",
      "Saving model checkpoint to data/models_20230606_new/_4/checkpoint-6000\n",
      "Configuration saved in data/models_20230606_new/_4/checkpoint-6000/config.json\n",
      "Model weights saved in data/models_20230606_new/_4/checkpoint-6000/pytorch_model.bin\n",
      "tokenizer config file saved in data/models_20230606_new/_4/checkpoint-6000/tokenizer_config.json\n",
      "Special tokens file saved in data/models_20230606_new/_4/checkpoint-6000/special_tokens_map.json\n",
      "Deleting older checkpoint [data/models_20230606_new/_4/checkpoint-5000] due to args.save_total_limit\n",
      "The following columns in the evaluation set don't have a corresponding argument in `GPT2ForSequenceClassification.forward` and have been ignored: text. If text are not expected by `GPT2ForSequenceClassification.forward`,  you can safely ignore this message.\n",
      "***** Running Evaluation *****\n",
      "  Num examples = 12000\n",
      "  Batch size = 32\n",
      "Saving model checkpoint to data/models_20230606_new/_4/checkpoint-6500\n",
      "Configuration saved in data/models_20230606_new/_4/checkpoint-6500/config.json\n",
      "Model weights saved in data/models_20230606_new/_4/checkpoint-6500/pytorch_model.bin\n",
      "tokenizer config file saved in data/models_20230606_new/_4/checkpoint-6500/tokenizer_config.json\n",
      "Special tokens file saved in data/models_20230606_new/_4/checkpoint-6500/special_tokens_map.json\n",
      "Deleting older checkpoint [data/models_20230606_new/_4/checkpoint-5500] due to args.save_total_limit\n",
      "The following columns in the evaluation set don't have a corresponding argument in `GPT2ForSequenceClassification.forward` and have been ignored: text. If text are not expected by `GPT2ForSequenceClassification.forward`,  you can safely ignore this message.\n",
      "***** Running Evaluation *****\n",
      "  Num examples = 12000\n",
      "  Batch size = 32\n",
      "Saving model checkpoint to data/models_20230606_new/_4/checkpoint-7000\n",
      "Configuration saved in data/models_20230606_new/_4/checkpoint-7000/config.json\n",
      "Model weights saved in data/models_20230606_new/_4/checkpoint-7000/pytorch_model.bin\n",
      "tokenizer config file saved in data/models_20230606_new/_4/checkpoint-7000/tokenizer_config.json\n",
      "Special tokens file saved in data/models_20230606_new/_4/checkpoint-7000/special_tokens_map.json\n",
      "Deleting older checkpoint [data/models_20230606_new/_4/checkpoint-6500] due to args.save_total_limit\n",
      "The following columns in the evaluation set don't have a corresponding argument in `GPT2ForSequenceClassification.forward` and have been ignored: text. If text are not expected by `GPT2ForSequenceClassification.forward`,  you can safely ignore this message.\n",
      "***** Running Evaluation *****\n",
      "  Num examples = 12000\n",
      "  Batch size = 32\n",
      "Saving model checkpoint to data/models_20230606_new/_4/checkpoint-7500\n",
      "Configuration saved in data/models_20230606_new/_4/checkpoint-7500/config.json\n",
      "Model weights saved in data/models_20230606_new/_4/checkpoint-7500/pytorch_model.bin\n",
      "tokenizer config file saved in data/models_20230606_new/_4/checkpoint-7500/tokenizer_config.json\n",
      "Special tokens file saved in data/models_20230606_new/_4/checkpoint-7500/special_tokens_map.json\n",
      "Deleting older checkpoint [data/models_20230606_new/_4/checkpoint-6000] due to args.save_total_limit\n",
      "The following columns in the evaluation set don't have a corresponding argument in `GPT2ForSequenceClassification.forward` and have been ignored: text. If text are not expected by `GPT2ForSequenceClassification.forward`,  you can safely ignore this message.\n",
      "***** Running Evaluation *****\n",
      "  Num examples = 12000\n",
      "  Batch size = 32\n",
      "Saving model checkpoint to data/models_20230606_new/_4/checkpoint-8000\n",
      "Configuration saved in data/models_20230606_new/_4/checkpoint-8000/config.json\n",
      "Model weights saved in data/models_20230606_new/_4/checkpoint-8000/pytorch_model.bin\n",
      "tokenizer config file saved in data/models_20230606_new/_4/checkpoint-8000/tokenizer_config.json\n",
      "Special tokens file saved in data/models_20230606_new/_4/checkpoint-8000/special_tokens_map.json\n",
      "Deleting older checkpoint [data/models_20230606_new/_4/checkpoint-7000] due to args.save_total_limit\n",
      "The following columns in the evaluation set don't have a corresponding argument in `GPT2ForSequenceClassification.forward` and have been ignored: text. If text are not expected by `GPT2ForSequenceClassification.forward`,  you can safely ignore this message.\n",
      "***** Running Evaluation *****\n",
      "  Num examples = 12000\n",
      "  Batch size = 32\n",
      "Saving model checkpoint to data/models_20230606_new/_4/checkpoint-8500\n",
      "Configuration saved in data/models_20230606_new/_4/checkpoint-8500/config.json\n",
      "Model weights saved in data/models_20230606_new/_4/checkpoint-8500/pytorch_model.bin\n",
      "tokenizer config file saved in data/models_20230606_new/_4/checkpoint-8500/tokenizer_config.json\n",
      "Special tokens file saved in data/models_20230606_new/_4/checkpoint-8500/special_tokens_map.json\n",
      "Deleting older checkpoint [data/models_20230606_new/_4/checkpoint-7500] due to args.save_total_limit\n",
      "The following columns in the evaluation set don't have a corresponding argument in `GPT2ForSequenceClassification.forward` and have been ignored: text. If text are not expected by `GPT2ForSequenceClassification.forward`,  you can safely ignore this message.\n",
      "***** Running Evaluation *****\n",
      "  Num examples = 12000\n",
      "  Batch size = 32\n",
      "Saving model checkpoint to data/models_20230606_new/_4/checkpoint-9000\n",
      "Configuration saved in data/models_20230606_new/_4/checkpoint-9000/config.json\n",
      "Model weights saved in data/models_20230606_new/_4/checkpoint-9000/pytorch_model.bin\n",
      "tokenizer config file saved in data/models_20230606_new/_4/checkpoint-9000/tokenizer_config.json\n",
      "Special tokens file saved in data/models_20230606_new/_4/checkpoint-9000/special_tokens_map.json\n",
      "Deleting older checkpoint [data/models_20230606_new/_4/checkpoint-8000] due to args.save_total_limit\n",
      "The following columns in the evaluation set don't have a corresponding argument in `GPT2ForSequenceClassification.forward` and have been ignored: text. If text are not expected by `GPT2ForSequenceClassification.forward`,  you can safely ignore this message.\n",
      "***** Running Evaluation *****\n",
      "  Num examples = 12000\n",
      "  Batch size = 32\n",
      "Saving model checkpoint to data/models_20230606_new/_4/checkpoint-9500\n",
      "Configuration saved in data/models_20230606_new/_4/checkpoint-9500/config.json\n",
      "Model weights saved in data/models_20230606_new/_4/checkpoint-9500/pytorch_model.bin\n",
      "tokenizer config file saved in data/models_20230606_new/_4/checkpoint-9500/tokenizer_config.json\n",
      "Special tokens file saved in data/models_20230606_new/_4/checkpoint-9500/special_tokens_map.json\n",
      "Deleting older checkpoint [data/models_20230606_new/_4/checkpoint-8500] due to args.save_total_limit\n",
      "The following columns in the evaluation set don't have a corresponding argument in `GPT2ForSequenceClassification.forward` and have been ignored: text. If text are not expected by `GPT2ForSequenceClassification.forward`,  you can safely ignore this message.\n",
      "***** Running Evaluation *****\n",
      "  Num examples = 12000\n",
      "  Batch size = 32\n",
      "Saving model checkpoint to data/models_20230606_new/_4/checkpoint-10000\n",
      "Configuration saved in data/models_20230606_new/_4/checkpoint-10000/config.json\n",
      "Model weights saved in data/models_20230606_new/_4/checkpoint-10000/pytorch_model.bin\n",
      "tokenizer config file saved in data/models_20230606_new/_4/checkpoint-10000/tokenizer_config.json\n",
      "Special tokens file saved in data/models_20230606_new/_4/checkpoint-10000/special_tokens_map.json\n",
      "Deleting older checkpoint [data/models_20230606_new/_4/checkpoint-9000] due to args.save_total_limit\n",
      "The following columns in the evaluation set don't have a corresponding argument in `GPT2ForSequenceClassification.forward` and have been ignored: text. If text are not expected by `GPT2ForSequenceClassification.forward`,  you can safely ignore this message.\n",
      "***** Running Evaluation *****\n",
      "  Num examples = 12000\n",
      "  Batch size = 32\n",
      "Saving model checkpoint to data/models_20230606_new/_4/checkpoint-10500\n",
      "Configuration saved in data/models_20230606_new/_4/checkpoint-10500/config.json\n",
      "Model weights saved in data/models_20230606_new/_4/checkpoint-10500/pytorch_model.bin\n",
      "tokenizer config file saved in data/models_20230606_new/_4/checkpoint-10500/tokenizer_config.json\n",
      "Special tokens file saved in data/models_20230606_new/_4/checkpoint-10500/special_tokens_map.json\n",
      "Deleting older checkpoint [data/models_20230606_new/_4/checkpoint-10000] due to args.save_total_limit\n",
      "The following columns in the evaluation set don't have a corresponding argument in `GPT2ForSequenceClassification.forward` and have been ignored: text. If text are not expected by `GPT2ForSequenceClassification.forward`,  you can safely ignore this message.\n",
      "***** Running Evaluation *****\n",
      "  Num examples = 12000\n",
      "  Batch size = 32\n",
      "Saving model checkpoint to data/models_20230606_new/_4/checkpoint-14000\n",
      "Configuration saved in data/models_20230606_new/_4/checkpoint-14000/config.json\n",
      "Model weights saved in data/models_20230606_new/_4/checkpoint-14000/pytorch_model.bin\n",
      "tokenizer config file saved in data/models_20230606_new/_4/checkpoint-14000/tokenizer_config.json\n",
      "Special tokens file saved in data/models_20230606_new/_4/checkpoint-14000/special_tokens_map.json\n",
      "Deleting older checkpoint [data/models_20230606_new/_4/checkpoint-13500] due to args.save_total_limit\n",
      "The following columns in the evaluation set don't have a corresponding argument in `GPT2ForSequenceClassification.forward` and have been ignored: text. If text are not expected by `GPT2ForSequenceClassification.forward`,  you can safely ignore this message.\n",
      "***** Running Evaluation *****\n",
      "  Num examples = 12000\n",
      "  Batch size = 32\n",
      "Saving model checkpoint to data/models_20230606_new/_4/checkpoint-14500\n",
      "Configuration saved in data/models_20230606_new/_4/checkpoint-14500/config.json\n",
      "Model weights saved in data/models_20230606_new/_4/checkpoint-14500/pytorch_model.bin\n",
      "tokenizer config file saved in data/models_20230606_new/_4/checkpoint-14500/tokenizer_config.json\n",
      "Special tokens file saved in data/models_20230606_new/_4/checkpoint-14500/special_tokens_map.json\n",
      "Deleting older checkpoint [data/models_20230606_new/_4/checkpoint-14000] due to args.save_total_limit\n",
      "The following columns in the evaluation set don't have a corresponding argument in `GPT2ForSequenceClassification.forward` and have been ignored: text. If text are not expected by `GPT2ForSequenceClassification.forward`,  you can safely ignore this message.\n",
      "***** Running Evaluation *****\n",
      "  Num examples = 12000\n",
      "  Batch size = 32\n",
      "Saving model checkpoint to data/models_20230606_new/_4/checkpoint-15000\n",
      "Configuration saved in data/models_20230606_new/_4/checkpoint-15000/config.json\n",
      "Model weights saved in data/models_20230606_new/_4/checkpoint-15000/pytorch_model.bin\n",
      "tokenizer config file saved in data/models_20230606_new/_4/checkpoint-15000/tokenizer_config.json\n",
      "Special tokens file saved in data/models_20230606_new/_4/checkpoint-15000/special_tokens_map.json\n",
      "Deleting older checkpoint [data/models_20230606_new/_4/checkpoint-14500] due to args.save_total_limit\n",
      "The following columns in the evaluation set don't have a corresponding argument in `GPT2ForSequenceClassification.forward` and have been ignored: text. If text are not expected by `GPT2ForSequenceClassification.forward`,  you can safely ignore this message.\n",
      "***** Running Evaluation *****\n",
      "  Num examples = 12000\n",
      "  Batch size = 32\n",
      "Saving model checkpoint to data/models_20230606_new/_4/checkpoint-15500\n",
      "Configuration saved in data/models_20230606_new/_4/checkpoint-15500/config.json\n",
      "Model weights saved in data/models_20230606_new/_4/checkpoint-15500/pytorch_model.bin\n",
      "tokenizer config file saved in data/models_20230606_new/_4/checkpoint-15500/tokenizer_config.json\n",
      "Special tokens file saved in data/models_20230606_new/_4/checkpoint-15500/special_tokens_map.json\n",
      "Deleting older checkpoint [data/models_20230606_new/_4/checkpoint-15000] due to args.save_total_limit\n",
      "\n",
      "\n",
      "Training completed. Do not forget to share your model on huggingface.co/models =)\n",
      "\n",
      "\n",
      "Loading best model from data/models_20230606_new/_4/checkpoint-9500 (score: 0.9444374869547068).\n",
      "The following columns in the evaluation set don't have a corresponding argument in `GPT2ForSequenceClassification.forward` and have been ignored: text. If text are not expected by `GPT2ForSequenceClassification.forward`,  you can safely ignore this message.\n",
      "***** Running Evaluation *****\n",
      "  Num examples = 7600\n",
      "  Batch size = 32\n"
     ]
    },
    {
     "name": "stdout",
     "output_type": "stream",
     "text": [
      "evaluating on test set\n"
     ]
    },
    {
     "data": {
      "text/html": [
       "\n",
       "    <div>\n",
       "      \n",
       "      <progress value='613' max='238' style='width:300px; height:20px; vertical-align: middle;'></progress>\n",
       "      [238/238 23:25]\n",
       "    </div>\n",
       "    "
      ],
      "text/plain": [
       "<IPython.core.display.HTML object>"
      ]
     },
     "metadata": {},
     "output_type": "display_data"
    },
    {
     "name": "stderr",
     "output_type": "stream",
     "text": [
      "The following columns in the evaluation set don't have a corresponding argument in `GPT2ForSequenceClassification.forward` and have been ignored: text. If text are not expected by `GPT2ForSequenceClassification.forward`,  you can safely ignore this message.\n",
      "***** Running Evaluation *****\n",
      "  Num examples = 12000\n",
      "  Batch size = 32\n"
     ]
    },
    {
     "name": "stdout",
     "output_type": "stream",
     "text": [
      "evaluating on validation set\n",
      "5\n",
      "[0.10525, 0.171, 0.8311666666666667, 0.90675, 0.9388333333333333]\n",
      "[0.0968421052631579, 0.16486842105263158, 0.8302631578947368, 0.910921052631579, 0.9415789473684211]\n"
     ]
    }
   ],
   "source": [
    "sequential_supervision_val_scores, sequential_supervision_test_scores = train_model_series_with_sequential_sampler(compute_metrics=compute_metrics)\n",
    "print([score['eval_accuracy'] for score in sequential_supervision_val_scores])\n",
    "print([score['eval_accuracy'] for score in sequential_supervision_test_scores])"
   ]
  },
  {
   "cell_type": "markdown",
   "id": "cb6a4e93-2303-4987-aea0-1f6b105c5825",
   "metadata": {},
   "source": [
    "#### writing to file"
   ]
  },
  {
   "cell_type": "code",
   "execution_count": null,
   "id": "594fa72d-3928-4583-84d2-bf84fda560f7",
   "metadata": {},
   "outputs": [],
   "source": [
    "import json\n",
    "with open(MODEL_DIR_NEW.joinpath(\"val_scores_sequential_vanilla_clf.json\"), \"w+\") as f:\n",
    "    json.dump(sequential_supervision_val_scores, f)\n",
    "with open(MODEL_DIR_NEW.joinpath(\"test_scores_sequential_vanilla_clf.json\"), \"w+\") as f:\n",
    "    json.dump(sequential_supervision_test_scores, f)"
   ]
  },
  {
   "cell_type": "code",
   "execution_count": null,
   "id": "5312284d-8824-47fd-a63c-f49b22f01cb7",
   "metadata": {},
   "outputs": [],
   "source": [
    "#[0.0968421052631579, 0.16486842105263158, 0.8302631578947368, 0.910921052631579, 0.9415789473684211]"
   ]
  },
  {
   "cell_type": "code",
   "execution_count": null,
   "id": "374b2b32",
   "metadata": {},
   "outputs": [],
   "source": [
    "0,00\t0.0006\n",
    "0.3325\t0.0011\n",
    "0.4955\t0.0166\n",
    "0.6229\t0.2606\n",
    "0.7095\t0.8776"
   ]
  },
  {
   "cell_type": "code",
   "execution_count": 2,
   "id": "39da19dc",
   "metadata": {},
   "outputs": [
    {
     "data": {
      "image/png": "[encoded data removed]",
      "text/plain": [
       "<Figure size 432x288 with 1 Axes>"
      ]
     },
     "metadata": {
      "needs_background": "light"
     },
     "output_type": "display_data"
    }
   ],
   "source": [
    "import pandas as pd\n",
    "df = pd.DataFrame({\n",
    "   'GPT2 generation tuned with task-specific prompt': [0.0000, 0.3325, 0.4955, 0.6229, 0.7095],\n",
    "   'GPT2 adapted with a Classifier head': [0.0006, 0.0011, 0.0166, 0.2606, 0.8776],\n",
    "}, index=[10, 100, 1000, 10000, 100000])\n",
    "lines = df.plot.line(style=\".-\")\n",
    "lines.set_ylabel(\"accuracy\")\n",
    "lines.set_xlabel(\"# training examples\")\n",
    "lines.set_title(\"AG-News Topic Classification performance on test set\")\n",
    "fig = lines.get_figure()\n",
    "fig.savefig(\"data_points_vs_prompts_ag_news.png\")"
   ]
  },
  {
   "cell_type": "code",
   "execution_count": null,
   "id": "b0655e3e",
   "metadata": {},
   "outputs": [],
   "source": []
  }
 ],
 "metadata": {
  "kernelspec": {
   "display_name": ".conda-bioblp-env [Python]",
   "language": "python",
   "name": "conda-env-.conda-bioblp-env-py"
  },
  "language_info": {
   "codemirror_mode": {
    "name": "ipython",
    "version": 3
   },
   "file_extension": ".py",
   "mimetype": "text/x-python",
   "name": "python",
   "nbconvert_exporter": "python",
   "pygments_lexer": "ipython3",
   "version": "3.9.16"
  }
 },
 "nbformat": 4,
 "nbformat_minor": 5
}
